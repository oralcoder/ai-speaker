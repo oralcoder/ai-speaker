{
 "cells": [
  {
   "cell_type": "markdown",
   "id": "d4e5df97",
   "metadata": {},
   "source": [
    "# 음성 녹음\n",
    "\n",
    "### 마이크를 통해 입력된 음성을 녹음한 후 파일로 저장해주는 기능"
   ]
  },
  {
   "cell_type": "markdown",
   "id": "14022d7c",
   "metadata": {},
   "source": [
    "## 1. 모듈 가져오기"
   ]
  },
  {
   "cell_type": "code",
   "execution_count": 11,
   "id": "efdd9e8d",
   "metadata": {},
   "outputs": [],
   "source": [
    "import requests\n",
    "import speech_recognition as sr\n",
    "import multiprocessing\n",
    "from playsound import playsound"
   ]
  },
  {
   "cell_type": "markdown",
   "id": "5e72a7b5",
   "metadata": {},
   "source": [
    "## 2. 음성 녹음 함수"
   ]
  },
  {
   "cell_type": "code",
   "execution_count": 18,
   "id": "7d5d44c2",
   "metadata": {},
   "outputs": [],
   "source": [
    "def RecordVoice():\n",
    "    audio = ''\n",
    "    r = sr.Recognizer()\n",
    "    with sr.Microphone(sample_rate=16000) as source:\n",
    "        print(\"Speak Anything :\")\n",
    "        audio = r.listen(source)\n",
    "    return audio"
   ]
  },
  {
   "cell_type": "markdown",
   "id": "cf6cb3b2",
   "metadata": {},
   "source": [
    "## 3. 음성 파일 저장 함수"
   ]
  },
  {
   "cell_type": "code",
   "execution_count": 13,
   "id": "e7241011",
   "metadata": {},
   "outputs": [],
   "source": [
    "def SaveVoiceStream(path, audio):\n",
    "    print('SaveVoiceStream', path)\n",
    "    with open(path, \"wb\") as f:\n",
    "        f.write(audio.get_wav_data())\n",
    "        return"
   ]
  },
  {
   "cell_type": "markdown",
   "id": "ba93b5e5",
   "metadata": {},
   "source": [
    "## 4. 음성 파일 재생 함수"
   ]
  },
  {
   "cell_type": "code",
   "execution_count": 16,
   "id": "4a71250f",
   "metadata": {},
   "outputs": [],
   "source": [
    "def PlayAudio(path):\n",
    "    print('PlayAudio', path)\n",
    "    p = multiprocessing.Process(target=playsound, args=(path,))\n",
    "    p.start()\n",
    "    return p"
   ]
  },
  {
   "cell_type": "markdown",
   "id": "6c2635c6",
   "metadata": {},
   "source": [
    "## 5. 함수 테스트"
   ]
  },
  {
   "cell_type": "code",
   "execution_count": 19,
   "id": "067502a2",
   "metadata": {},
   "outputs": [
    {
     "name": "stdout",
     "output_type": "stream",
     "text": [
      "Speak Anything :\n",
      "SaveVoiceStream test.wav\n",
      "okayVoice test.wav\n"
     ]
    }
   ],
   "source": [
    "if __name__ == \"__main__\":\n",
    "    path = \"test.wav\"\n",
    "    audio = RecordVoice()\n",
    "    SaveVoiceStream(path, audio)\n",
    "    p = playsound(path)"
   ]
  },
  {
   "cell_type": "code",
   "execution_count": null,
   "id": "b8368f90",
   "metadata": {},
   "outputs": [],
   "source": []
  }
 ],
 "metadata": {
  "kernelspec": {
   "display_name": "Python 3 (ipykernel)",
   "language": "python",
   "name": "python3"
  },
  "language_info": {
   "codemirror_mode": {
    "name": "ipython",
    "version": 3
   },
   "file_extension": ".py",
   "mimetype": "text/x-python",
   "name": "python",
   "nbconvert_exporter": "python",
   "pygments_lexer": "ipython3",
   "version": "3.9.5"
  }
 },
 "nbformat": 4,
 "nbformat_minor": 5
}
