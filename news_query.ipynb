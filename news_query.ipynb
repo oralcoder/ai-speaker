{
 "cells": [
  {
   "cell_type": "markdown",
   "id": "3d8a7d45",
   "metadata": {},
   "source": [
    "# 네이버 헤드라인 뉴스를 음성으로 알려주는 서비스\n",
    "\n",
    "### 1) 음성 녹음\n",
    "### 2) 음성을 텍스트로 변환 (STT 서비스 요청->텍스트 수신)\n",
    "### 3) 텍스트에 '뉴스' 라는 키워드가 포함되어 있는지 확인\n",
    "### 4) 네이버 헤드라인 뉴스 크롤링\n",
    "### 5) 텍스트를 음성으로 변환(TTS 서비스 요청->음성 데이터 수신)\n",
    "### 6) 음성 데이터 재생"
   ]
  },
  {
   "cell_type": "markdown",
   "id": "dab4ab42",
   "metadata": {},
   "source": [
    "## 0. 모듈 가져오기"
   ]
  },
  {
   "cell_type": "code",
   "execution_count": 86,
   "id": "d9a119cd",
   "metadata": {},
   "outputs": [],
   "source": [
    "import requests\n",
    "import json\n",
    "import speech_recognition as sr\n",
    "import multiprocessing\n",
    "from playsound import playsound\n",
    "from datetime import datetime\n",
    "from bs4 import BeautifulSoup\n",
    "from selenium import webdriver"
   ]
  },
  {
   "cell_type": "markdown",
   "id": "ba0e9f13",
   "metadata": {},
   "source": [
    "## 1. 음성 녹음 함수"
   ]
  },
  {
   "cell_type": "code",
   "execution_count": 2,
   "id": "97750260",
   "metadata": {},
   "outputs": [],
   "source": [
    "def RecordVoice():\n",
    "    r = sr.Recognizer()\n",
    "    with sr.Microphone(sample_rate=16000) as source:\n",
    "        print(\"Speak Anything :\")\n",
    "        audio = r.listen(source)\n",
    "        return audio"
   ]
  },
  {
   "cell_type": "markdown",
   "id": "5c0046cc",
   "metadata": {},
   "source": [
    "## 2. STT 서비스 처리 함수"
   ]
  },
  {
   "cell_type": "code",
   "execution_count": 3,
   "id": "bb1fbe3e",
   "metadata": {},
   "outputs": [],
   "source": [
    "def RequestSTT(audio):\n",
    "    url = \"https://kakaoi-newtone-openapi.kakao.com/v1/recognize\"\n",
    "    key = \"58df5a2afd5c776e6d4e95f5cabf709e\"\n",
    "    headers = {\n",
    "        \"Content-Type\": \"application/octet-stream\",\n",
    "        \"Authorization\": \"KakaoAK \" + key,\n",
    "    }\n",
    "    res = requests.post(url, headers=headers, data=audio.get_raw_data())\n",
    "    \n",
    "    return res"
   ]
  },
  {
   "cell_type": "markdown",
   "id": "72b5be7a",
   "metadata": {},
   "source": [
    "## 3. 키워드 비교 함수"
   ]
  },
  {
   "cell_type": "code",
   "execution_count": 11,
   "id": "71826b9f",
   "metadata": {},
   "outputs": [],
   "source": [
    "def CompareKeyword(data):\n",
    "    json_string = data[data.index('{\"type\":\"finalResult\"'):data.rindex('}')+1]\n",
    "    result = json.loads(json_string)['value']\n",
    "    result = result.replace(\" \",\"\")\n",
    "    if \"몇시\" in result:\n",
    "        return 'CURRENT_TIME'\n",
    "    elif \"뉴스\" in result:\n",
    "        return 'NEWS'\n",
    "    else:\n",
    "        return 'UNKNOWN'"
   ]
  },
  {
   "cell_type": "markdown",
   "id": "086cdcb6",
   "metadata": {},
   "source": [
    "## 4-1. 현재 시각 구하는 함수"
   ]
  },
  {
   "cell_type": "code",
   "execution_count": 5,
   "id": "63ee4c7d",
   "metadata": {},
   "outputs": [],
   "source": [
    "def ProcessCurrentTime(path):\n",
    "    print('ProcessCurrentTime', path)\n",
    "    now = datetime.today().strftime('%H:%M')\n",
    "    data = f'<speak>현재 시각은<break time=\"150ms\"/> \\\n",
    "        <say-as interpret-as=\"time\" format=\"hm24\"> {now} </say-as> 입니다</speak>'.encode('utf-8').decode('latin1')\n",
    "    res = RequestTTS(path, data)\n",
    "    if (res.status_code != 200):\n",
    "        print(f'TTS 요청이 실패하였습니다.(code={res.status_code})')\n",
    "        return -1\n",
    "    else:\n",
    "        return 0\n",
    "    "
   ]
  },
  {
   "cell_type": "markdown",
   "id": "1592261b",
   "metadata": {},
   "source": [
    "## 4-2. 헤드라인 뉴스를 가져오는 함수"
   ]
  },
  {
   "cell_type": "code",
   "execution_count": 81,
   "id": "6ff359dd",
   "metadata": {},
   "outputs": [],
   "source": [
    "def ProcessNews(path):\n",
    "    print('ProcessNews', path)\n",
    "    newsList = []\n",
    "    url = 'https://news.naver.com'\n",
    "    headers = {'User-Agent': 'Mozilla/5.0 (Windows NT 10.0; Win64; x64) AppleWebKit/537.36 (KHTML, like Gecko) Chrome/95.0.4638.69 Safari/537.36'}\n",
    "    res = requests.get(url, headers=headers)\n",
    "    if (res.status_code != 200):\n",
    "        print(f'Request 요청이 실패하였습니다.(code={res.status_code})')\n",
    "        return -1\n",
    "    html = res.text\n",
    "    soup = BeautifulSoup(html, 'html.parser')\n",
    "    data = soup.find('ul', class_='hdline_article_list').findAll('div', class_='hdline_article_tit')\n",
    "    #newsList = data.findAll('a')\n",
    "    text = '<speak>오늘의 뉴스를 알려드리겠습니다.'\n",
    "    for n, i in enumerate(data):\n",
    "        news = i.text.replace('\\n', '').replace('  ', '')\n",
    "        text += f'{n+1}번: {news}<break time=\"500ms\"/>'\n",
    "    text += '</speak>'\n",
    "    text = text.encode('utf-8').decode('latin1')\n",
    "    res = RequestTTS(path, text)\n",
    "    if (res.status_code != 200):\n",
    "        print(f'TTS 요청이 실패하였습니다.(code={res.status_code})')\n",
    "        return -1\n",
    "    else:\n",
    "        return 0\n",
    "    \n",
    "    "
   ]
  },
  {
   "cell_type": "markdown",
   "id": "1eb83e44",
   "metadata": {},
   "source": [
    "## 5. TTS 서비스 처리 함수"
   ]
  },
  {
   "cell_type": "code",
   "execution_count": 82,
   "id": "9731835c",
   "metadata": {},
   "outputs": [],
   "source": [
    "def RequestTTS(path, data):\n",
    "    print('RequestTTS', path)\n",
    "    url = \"https://kakaoi-newtone-openapi.kakao.com/v1/synthesize\"\n",
    "    key = \"58df5a2afd5c776e6d4e95f5cabf709e\"\n",
    "    headers = {\n",
    "        \"Content-Type\": \"application/xml\",\n",
    "        \"Authorization\": \"KakaoAK \" + key,\n",
    "    }\n",
    "    res = requests.post(url, headers=headers, data=data)\n",
    "    if (res.status_code != 200):\n",
    "            print(f'TTS 요청이 실패하였습니다.(code={res.status_code})')\n",
    "            return res\n",
    "    else:\n",
    "        with open(path, \"wb\") as f:\n",
    "            f.write(res.content)\n",
    "        return res"
   ]
  },
  {
   "cell_type": "markdown",
   "id": "435fc660",
   "metadata": {},
   "source": [
    "## 6. 음성 데이터 재생"
   ]
  },
  {
   "cell_type": "code",
   "execution_count": 83,
   "id": "5812229b",
   "metadata": {},
   "outputs": [],
   "source": [
    "def PlayAudio(path):\n",
    "    print('PlayAudio', path)\n",
    "    p = multiprocessing.Process(target=playsound, args=(path,))\n",
    "    p.start()\n",
    "    return p"
   ]
  },
  {
   "cell_type": "markdown",
   "id": "abca824e",
   "metadata": {},
   "source": [
    "## MAIN"
   ]
  },
  {
   "cell_type": "code",
   "execution_count": 84,
   "id": "6d0fcf73",
   "metadata": {},
   "outputs": [
    {
     "name": "stdout",
     "output_type": "stream",
     "text": [
      "Speak Anything :\n",
      "ProcessNews temp.mp3\n",
      "RequestTTS temp.mp3\n",
      "PlayAudio temp.mp3\n"
     ]
    }
   ],
   "source": [
    "if __name__ == \"__main__\":\n",
    "    path = 'temp.mp3'\n",
    "    audio = RecordVoice()\n",
    "    res = RequestSTT(audio)\n",
    "    keyword = CompareKeyword(res.text)\n",
    "    if (keyword == 'UNKNOWN'):\n",
    "        print('알수 없는 키워드입니다.')\n",
    "        exit(1)\n",
    "    elif (keyword == 'CURRENT_TIME'):\n",
    "        res = ProcessCurrentTime(path)\n",
    "        if (res == 0):\n",
    "            p = PlayAudio(path)      \n",
    "    elif (keyword == 'NEWS'):\n",
    "        res = ProcessNews(path)\n",
    "        if (res == 0):\n",
    "            p = PlayAudio(path)      \n",
    "    "
   ]
  },
  {
   "cell_type": "code",
   "execution_count": null,
   "id": "a85868c4",
   "metadata": {},
   "outputs": [],
   "source": []
  }
 ],
 "metadata": {
  "kernelspec": {
   "display_name": "Python 3 (ipykernel)",
   "language": "python",
   "name": "python3"
  },
  "language_info": {
   "codemirror_mode": {
    "name": "ipython",
    "version": 3
   },
   "file_extension": ".py",
   "mimetype": "text/x-python",
   "name": "python",
   "nbconvert_exporter": "python",
   "pygments_lexer": "ipython3",
   "version": "3.9.5"
  }
 },
 "nbformat": 4,
 "nbformat_minor": 5
}
